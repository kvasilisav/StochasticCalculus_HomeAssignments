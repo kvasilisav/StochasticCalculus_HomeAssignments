{
  "cells": [
    {
      "cell_type": "code",
      "execution_count": 70,
      "metadata": {
        "id": "rARu7lGMVcwA"
      },
      "outputs": [],
      "source": [
        "import numpy as np\n",
        "import numpy.random as npr\n",
        "from scipy.stats import norm\n",
        "from math import log, sqrt, pi, exp\n",
        "import pandas as pd"
      ]
    },
    {
      "cell_type": "markdown",
      "metadata": {
        "id": "R9v2Rnz00XTz"
      },
      "source": [
        "## Задание 2"
      ]
    },
    {
      "cell_type": "markdown",
      "metadata": {},
      "source": [
        "Find the price of a derivative which pays off $𝑆_T^5 − K$ if $𝑆_T > K$ and zero otherwise (you\n",
        "may want to use Itô’s lemma for this).\n",
        "Write a Python code to price this derivative and compare your results."
      ]
    },
    {
      "cell_type": "markdown",
      "metadata": {
        "id": "j8QB6KlbC2RQ"
      },
      "source": [
        "### Из рассчетов:"
      ]
    },
    {
      "cell_type": "markdown",
      "metadata": {
        "id": "D-yGS68vGsjO"
      },
      "source": [
        "$$\n",
        "F = S_0^5e^{10\\sigma^2 T + 4rT}N(d_1) - Ke^{-rT}N(d_2),\n",
        "$$\n",
        "где\n",
        "$$\n",
        "d_1 = \\frac{\n",
        "  ln( \\frac{S_0}{K} ) + (r + \\frac{9}{2}\\sigma^2)T}{\n",
        "    \\sigma \\sqrt{T}\n",
        "    }, \\;\\; d_2 = \\frac{\n",
        "  ln(\\frac{S_0}{K}) + (r - \\frac{\\sigma^2}{2})T}{\n",
        "    \\sigma \\sqrt{T}}.\n",
        "$$"
      ]
    },
    {
      "cell_type": "code",
      "execution_count": 61,
      "metadata": {
        "id": "c6ehvrxbC7sv"
      },
      "outputs": [],
      "source": [
        "def d1(S,K,T,r,sigma):\n",
        "    return (log(S/K) + (r + 9 * sigma**2/2.) * T) / (sigma * sqrt(T))\n",
        "\n",
        "def d2(S,K,T,r,sigma):\n",
        "    return (log(S/K) + (r - sigma**2/2.) * T) / (sigma * sqrt(T))\n",
        "\n",
        "def deriv(S,K,T,r,sigma):\n",
        "    price = S**5 * np.exp(10* sigma**2 * T) * np.exp(4 * r * T) * norm.cdf(d1(S,K,T,r,sigma)) - K * np.exp(-r*T) * norm.cdf(d2(S,K,T,r,sigma))\n",
        "    return price"
      ]
    },
    {
      "cell_type": "markdown",
      "metadata": {
        "id": "1n0RLe72CxLb"
      },
      "source": [
        "### Монте-Карло:"
      ]
    },
    {
      "cell_type": "code",
      "execution_count": 62,
      "metadata": {
        "id": "JTLLGuvIVcwI"
      },
      "outputs": [],
      "source": [
        "'''\n",
        "param S0: изначальная цена актива\n",
        "param K: страйк\n",
        "param T: время экспирации\n",
        "param r: безрисковая ставка\n",
        "param sigma: волатильность актива\n",
        "'''\n",
        "\n",
        "def simulate_stock_price(S0, r, sigma, T, n_sims):\n",
        "    WT = np.sqrt(T)*npr.normal(0,1,(n_sims,1))\n",
        "    ST = S0 * np.exp(sigma * WT + (r - 0.5 * sigma ** 2) * T)\n",
        "    return ST\n",
        "\n",
        "def price_derivative(S0, K, T, r, sigma, n_sims):\n",
        "    ST = simulate_stock_price(S0, r, sigma, T, n_sims)\n",
        "    payoffs = np.where(ST > K, ST**5 - K, 0)\n",
        "    price_disc = np.exp(-r * T) * np.mean(payoffs)\n",
        "    return price_disc"
      ]
    },
    {
      "cell_type": "markdown",
      "metadata": {
        "id": "j3D5d8PvGby9"
      },
      "source": [
        "### Сравнение:"
      ]
    },
    {
      "cell_type": "code",
      "execution_count": 64,
      "metadata": {
        "id": "L91DmbYCzvqH"
      },
      "outputs": [],
      "source": [
        "def print_result(S0, K, T, r, sigma, n_sims):\n",
        "    price_disc = price_derivative(S0, K, T, r, sigma, n_sims)\n",
        "    exponent_disc = len(str(int(price_disc))) - 1\n",
        "    mantissa_disc = price_disc / (10 ** exponent_disc)\n",
        "\n",
        "    price = deriv(S0, K, T, r, sigma)\n",
        "    exponent = len(str(int(price))) - 1\n",
        "    mantissa = price / (10 ** exponent)\n",
        "\n",
        "    print(f\"Simulated price of the derivative is: {mantissa_disc:.2f} * 10^{exponent_disc}\")\n",
        "    print(f\"Theoretical price of the derivative is: {mantissa:.2f} * 10^{exponent}\")"
      ]
    },
    {
      "cell_type": "code",
      "execution_count": 65,
      "metadata": {
        "colab": {
          "base_uri": "https://localhost:8080/"
        },
        "id": "K9ez6zTUwz5h",
        "outputId": "4b491f84-0af3-4b79-b0bb-22b60e3b9c59"
      },
      "outputs": [
        {
          "name": "stdout",
          "output_type": "stream",
          "text": [
            "Simulated price of the derivative is: 1.29 * 10^7\n",
            "Theoretical price of the derivative is: 1.29 * 10^7\n"
          ]
        }
      ],
      "source": [
        "S0 = 100\n",
        "K = 150\n",
        "T = 1\n",
        "r = 0.05\n",
        "sigma = 0.1\n",
        "n_simulations = 10000000\n",
        "\n",
        "print_result(S0, K, T, r, sigma, n_simulations)"
      ]
    },
    {
      "cell_type": "code",
      "execution_count": 68,
      "metadata": {
        "colab": {
          "base_uri": "https://localhost:8080/"
        },
        "id": "ixIk1RdfGf1s",
        "outputId": "a716217d-86b4-4776-c910-a572bfbcbe2a"
      },
      "outputs": [
        {
          "name": "stdout",
          "output_type": "stream",
          "text": [
            "Simulated price of the derivative is: 1.42 * 10^11\n",
            "Theoretical price of the derivative is: 1.40 * 10^11\n"
          ]
        }
      ],
      "source": [
        "S0 = 100\n",
        "K = 150\n",
        "T = 1\n",
        "r = 0.05\n",
        "sigma = 0.5\n",
        "n_simulations = 10000000\n",
        "\n",
        "print_result(S0, K, T, r, sigma, n_simulations)"
      ]
    },
    {
      "cell_type": "markdown",
      "metadata": {
        "id": "e_h-Hz_HGnDS"
      },
      "source": [
        "Сходится!!"
      ]
    },
    {
      "cell_type": "markdown",
      "metadata": {
        "id": "GmM1uPgC0bli"
      },
      "source": [
        "## Задание 3"
      ]
    },
    {
      "cell_type": "markdown",
      "metadata": {},
      "source": [
        "Pick your favorite stock and find the prices of at-the-money calls and puts on it using\n",
        "Black-Scholes-Merton model."
      ]
    },
    {
      "cell_type": "markdown",
      "metadata": {
        "id": "p6H_xYRPLvuK"
      },
      "source": [
        "В этом задании буду работать с Roblox Stock: рассчитаю стоимости годовых at-the-money put- и call- опционов на момент 2.12.2024 (первый рабочий день декабря)."
      ]
    },
    {
      "cell_type": "markdown",
      "metadata": {
        "id": "GfbCDusBO1GZ"
      },
      "source": [
        "Волатильность рассчитаем из годовых исторических данных ноябрь 2023 - ноябрь 2024. Для оценки risk free rate возьмем среднее значение 1 Year Treasury Rate за рассматриваемый год."
      ]
    },
    {
      "cell_type": "code",
      "execution_count": 76,
      "metadata": {
        "colab": {
          "base_uri": "https://localhost:8080/",
          "height": 237
        },
        "id": "PYT8KNy40cl-",
        "outputId": "df8f906b-b867-41e3-9699-c496b5eda6ab"
      },
      "outputs": [
        {
          "data": {
            "application/vnd.google.colaboratory.intrinsic+json": {
              "summary": "{\n  \"name\": \"df\",\n  \"rows\": 273,\n  \"fields\": [\n    {\n      \"column\": \"Date\",\n      \"properties\": {\n        \"dtype\": \"date\",\n        \"min\": \"2023-11-01 00:00:00\",\n        \"max\": \"2024-12-02 00:00:00\",\n        \"num_unique_values\": 273,\n        \"samples\": [\n          \"2024-10-18 00:00:00\",\n          \"2024-06-14 00:00:00\",\n          \"2024-08-09 00:00:00\"\n        ],\n        \"semantic_type\": \"\",\n        \"description\": \"\"\n      }\n    },\n    {\n      \"column\": \"Price\",\n      \"properties\": {\n        \"dtype\": \"number\",\n        \"std\": 4.725793533996616,\n        \"min\": 30.42,\n        \"max\": 54.56,\n        \"num_unique_values\": 246,\n        \"samples\": [\n          40.76,\n          49.35,\n          40.16\n        ],\n        \"semantic_type\": \"\",\n        \"description\": \"\"\n      }\n    },\n    {\n      \"column\": \"Open\",\n      \"properties\": {\n        \"dtype\": \"number\",\n        \"std\": 4.764599654594583,\n        \"min\": 29.92,\n        \"max\": 54.45,\n        \"num_unique_values\": 251,\n        \"samples\": [\n          38.99,\n          51.03,\n          37.97\n        ],\n        \"semantic_type\": \"\",\n        \"description\": \"\"\n      }\n    },\n    {\n      \"column\": \"High\",\n      \"properties\": {\n        \"dtype\": \"number\",\n        \"std\": 4.830996170362875,\n        \"min\": 31.5,\n        \"max\": 55.1,\n        \"num_unique_values\": 242,\n        \"samples\": [\n          42.49,\n          51.4,\n          39.54\n        ],\n        \"semantic_type\": \"\",\n        \"description\": \"\"\n      }\n    },\n    {\n      \"column\": \"Low\",\n      \"properties\": {\n        \"dtype\": \"number\",\n        \"std\": 4.653777788843096,\n        \"min\": 29.55,\n        \"max\": 54.1,\n        \"num_unique_values\": 249,\n        \"samples\": [\n          30.56,\n          50.6,\n          38.43\n        ],\n        \"semantic_type\": \"\",\n        \"description\": \"\"\n      }\n    },\n    {\n      \"column\": \"Vol.\",\n      \"properties\": {\n        \"dtype\": \"string\",\n        \"num_unique_values\": 233,\n        \"samples\": [\n          \"3.15M\",\n          \"5.95M\",\n          \"10.58M\"\n        ],\n        \"semantic_type\": \"\",\n        \"description\": \"\"\n      }\n    },\n    {\n      \"column\": \"Change %\",\n      \"properties\": {\n        \"dtype\": \"string\",\n        \"num_unique_values\": 236,\n        \"samples\": [\n          \"-0.78%\",\n          \"0.10%\",\n          \"10.20%\"\n        ],\n        \"semantic_type\": \"\",\n        \"description\": \"\"\n      }\n    }\n  ]\n}",
              "type": "dataframe",
              "variable_name": "df"
            },
            "text/html": [
              "\n",
              "  <div id=\"df-7fd551bc-6585-4a27-96c2-55004e80e2e3\" class=\"colab-df-container\">\n",
              "    <div>\n",
              "<style scoped>\n",
              "    .dataframe tbody tr th:only-of-type {\n",
              "        vertical-align: middle;\n",
              "    }\n",
              "\n",
              "    .dataframe tbody tr th {\n",
              "        vertical-align: top;\n",
              "    }\n",
              "\n",
              "    .dataframe thead th {\n",
              "        text-align: right;\n",
              "    }\n",
              "</style>\n",
              "<table border=\"1\" class=\"dataframe\">\n",
              "  <thead>\n",
              "    <tr style=\"text-align: right;\">\n",
              "      <th></th>\n",
              "      <th>Price</th>\n",
              "      <th>Open</th>\n",
              "      <th>High</th>\n",
              "      <th>Low</th>\n",
              "      <th>Vol.</th>\n",
              "      <th>Change %</th>\n",
              "    </tr>\n",
              "    <tr>\n",
              "      <th>Date</th>\n",
              "      <th></th>\n",
              "      <th></th>\n",
              "      <th></th>\n",
              "      <th></th>\n",
              "      <th></th>\n",
              "      <th></th>\n",
              "    </tr>\n",
              "  </thead>\n",
              "  <tbody>\n",
              "    <tr>\n",
              "      <th>2024-12-02</th>\n",
              "      <td>52.16</td>\n",
              "      <td>50.99</td>\n",
              "      <td>52.65</td>\n",
              "      <td>50.94</td>\n",
              "      <td>8.23M</td>\n",
              "      <td>4.05%</td>\n",
              "    </tr>\n",
              "    <tr>\n",
              "      <th>2024-11-29</th>\n",
              "      <td>50.13</td>\n",
              "      <td>49.81</td>\n",
              "      <td>50.73</td>\n",
              "      <td>49.68</td>\n",
              "      <td>3.63M</td>\n",
              "      <td>1.54%</td>\n",
              "    </tr>\n",
              "    <tr>\n",
              "      <th>2024-11-27</th>\n",
              "      <td>49.37</td>\n",
              "      <td>49.09</td>\n",
              "      <td>50.54</td>\n",
              "      <td>48.61</td>\n",
              "      <td>5.62M</td>\n",
              "      <td>0.63%</td>\n",
              "    </tr>\n",
              "    <tr>\n",
              "      <th>2024-11-26</th>\n",
              "      <td>49.06</td>\n",
              "      <td>49.18</td>\n",
              "      <td>50.01</td>\n",
              "      <td>48.93</td>\n",
              "      <td>6.92M</td>\n",
              "      <td>-0.20%</td>\n",
              "    </tr>\n",
              "    <tr>\n",
              "      <th>2024-11-25</th>\n",
              "      <td>49.16</td>\n",
              "      <td>49.13</td>\n",
              "      <td>49.49</td>\n",
              "      <td>47.95</td>\n",
              "      <td>9.52M</td>\n",
              "      <td>-0.45%</td>\n",
              "    </tr>\n",
              "  </tbody>\n",
              "</table>\n",
              "</div>\n",
              "    <div class=\"colab-df-buttons\">\n",
              "\n",
              "  <div class=\"colab-df-container\">\n",
              "    <button class=\"colab-df-convert\" onclick=\"convertToInteractive('df-7fd551bc-6585-4a27-96c2-55004e80e2e3')\"\n",
              "            title=\"Convert this dataframe to an interactive table.\"\n",
              "            style=\"display:none;\">\n",
              "\n",
              "  <svg xmlns=\"http://www.w3.org/2000/svg\" height=\"24px\" viewBox=\"0 -960 960 960\">\n",
              "    <path d=\"M120-120v-720h720v720H120Zm60-500h600v-160H180v160Zm220 220h160v-160H400v160Zm0 220h160v-160H400v160ZM180-400h160v-160H180v160Zm440 0h160v-160H620v160ZM180-180h160v-160H180v160Zm440 0h160v-160H620v160Z\"/>\n",
              "  </svg>\n",
              "    </button>\n",
              "\n",
              "  <style>\n",
              "    .colab-df-container {\n",
              "      display:flex;\n",
              "      gap: 12px;\n",
              "    }\n",
              "\n",
              "    .colab-df-convert {\n",
              "      background-color: #E8F0FE;\n",
              "      border: none;\n",
              "      border-radius: 50%;\n",
              "      cursor: pointer;\n",
              "      display: none;\n",
              "      fill: #1967D2;\n",
              "      height: 32px;\n",
              "      padding: 0 0 0 0;\n",
              "      width: 32px;\n",
              "    }\n",
              "\n",
              "    .colab-df-convert:hover {\n",
              "      background-color: #E2EBFA;\n",
              "      box-shadow: 0px 1px 2px rgba(60, 64, 67, 0.3), 0px 1px 3px 1px rgba(60, 64, 67, 0.15);\n",
              "      fill: #174EA6;\n",
              "    }\n",
              "\n",
              "    .colab-df-buttons div {\n",
              "      margin-bottom: 4px;\n",
              "    }\n",
              "\n",
              "    [theme=dark] .colab-df-convert {\n",
              "      background-color: #3B4455;\n",
              "      fill: #D2E3FC;\n",
              "    }\n",
              "\n",
              "    [theme=dark] .colab-df-convert:hover {\n",
              "      background-color: #434B5C;\n",
              "      box-shadow: 0px 1px 3px 1px rgba(0, 0, 0, 0.15);\n",
              "      filter: drop-shadow(0px 1px 2px rgba(0, 0, 0, 0.3));\n",
              "      fill: #FFFFFF;\n",
              "    }\n",
              "  </style>\n",
              "\n",
              "    <script>\n",
              "      const buttonEl =\n",
              "        document.querySelector('#df-7fd551bc-6585-4a27-96c2-55004e80e2e3 button.colab-df-convert');\n",
              "      buttonEl.style.display =\n",
              "        google.colab.kernel.accessAllowed ? 'block' : 'none';\n",
              "\n",
              "      async function convertToInteractive(key) {\n",
              "        const element = document.querySelector('#df-7fd551bc-6585-4a27-96c2-55004e80e2e3');\n",
              "        const dataTable =\n",
              "          await google.colab.kernel.invokeFunction('convertToInteractive',\n",
              "                                                    [key], {});\n",
              "        if (!dataTable) return;\n",
              "\n",
              "        const docLinkHtml = 'Like what you see? Visit the ' +\n",
              "          '<a target=\"_blank\" href=https://colab.research.google.com/notebooks/data_table.ipynb>data table notebook</a>'\n",
              "          + ' to learn more about interactive tables.';\n",
              "        element.innerHTML = '';\n",
              "        dataTable['output_type'] = 'display_data';\n",
              "        await google.colab.output.renderOutput(dataTable, element);\n",
              "        const docLink = document.createElement('div');\n",
              "        docLink.innerHTML = docLinkHtml;\n",
              "        element.appendChild(docLink);\n",
              "      }\n",
              "    </script>\n",
              "  </div>\n",
              "\n",
              "\n",
              "<div id=\"df-10d1c1e0-db02-4a01-bb98-74449d1c93e6\">\n",
              "  <button class=\"colab-df-quickchart\" onclick=\"quickchart('df-10d1c1e0-db02-4a01-bb98-74449d1c93e6')\"\n",
              "            title=\"Suggest charts\"\n",
              "            style=\"display:none;\">\n",
              "\n",
              "<svg xmlns=\"http://www.w3.org/2000/svg\" height=\"24px\"viewBox=\"0 0 24 24\"\n",
              "     width=\"24px\">\n",
              "    <g>\n",
              "        <path d=\"M19 3H5c-1.1 0-2 .9-2 2v14c0 1.1.9 2 2 2h14c1.1 0 2-.9 2-2V5c0-1.1-.9-2-2-2zM9 17H7v-7h2v7zm4 0h-2V7h2v10zm4 0h-2v-4h2v4z\"/>\n",
              "    </g>\n",
              "</svg>\n",
              "  </button>\n",
              "\n",
              "<style>\n",
              "  .colab-df-quickchart {\n",
              "      --bg-color: #E8F0FE;\n",
              "      --fill-color: #1967D2;\n",
              "      --hover-bg-color: #E2EBFA;\n",
              "      --hover-fill-color: #174EA6;\n",
              "      --disabled-fill-color: #AAA;\n",
              "      --disabled-bg-color: #DDD;\n",
              "  }\n",
              "\n",
              "  [theme=dark] .colab-df-quickchart {\n",
              "      --bg-color: #3B4455;\n",
              "      --fill-color: #D2E3FC;\n",
              "      --hover-bg-color: #434B5C;\n",
              "      --hover-fill-color: #FFFFFF;\n",
              "      --disabled-bg-color: #3B4455;\n",
              "      --disabled-fill-color: #666;\n",
              "  }\n",
              "\n",
              "  .colab-df-quickchart {\n",
              "    background-color: var(--bg-color);\n",
              "    border: none;\n",
              "    border-radius: 50%;\n",
              "    cursor: pointer;\n",
              "    display: none;\n",
              "    fill: var(--fill-color);\n",
              "    height: 32px;\n",
              "    padding: 0;\n",
              "    width: 32px;\n",
              "  }\n",
              "\n",
              "  .colab-df-quickchart:hover {\n",
              "    background-color: var(--hover-bg-color);\n",
              "    box-shadow: 0 1px 2px rgba(60, 64, 67, 0.3), 0 1px 3px 1px rgba(60, 64, 67, 0.15);\n",
              "    fill: var(--button-hover-fill-color);\n",
              "  }\n",
              "\n",
              "  .colab-df-quickchart-complete:disabled,\n",
              "  .colab-df-quickchart-complete:disabled:hover {\n",
              "    background-color: var(--disabled-bg-color);\n",
              "    fill: var(--disabled-fill-color);\n",
              "    box-shadow: none;\n",
              "  }\n",
              "\n",
              "  .colab-df-spinner {\n",
              "    border: 2px solid var(--fill-color);\n",
              "    border-color: transparent;\n",
              "    border-bottom-color: var(--fill-color);\n",
              "    animation:\n",
              "      spin 1s steps(1) infinite;\n",
              "  }\n",
              "\n",
              "  @keyframes spin {\n",
              "    0% {\n",
              "      border-color: transparent;\n",
              "      border-bottom-color: var(--fill-color);\n",
              "      border-left-color: var(--fill-color);\n",
              "    }\n",
              "    20% {\n",
              "      border-color: transparent;\n",
              "      border-left-color: var(--fill-color);\n",
              "      border-top-color: var(--fill-color);\n",
              "    }\n",
              "    30% {\n",
              "      border-color: transparent;\n",
              "      border-left-color: var(--fill-color);\n",
              "      border-top-color: var(--fill-color);\n",
              "      border-right-color: var(--fill-color);\n",
              "    }\n",
              "    40% {\n",
              "      border-color: transparent;\n",
              "      border-right-color: var(--fill-color);\n",
              "      border-top-color: var(--fill-color);\n",
              "    }\n",
              "    60% {\n",
              "      border-color: transparent;\n",
              "      border-right-color: var(--fill-color);\n",
              "    }\n",
              "    80% {\n",
              "      border-color: transparent;\n",
              "      border-right-color: var(--fill-color);\n",
              "      border-bottom-color: var(--fill-color);\n",
              "    }\n",
              "    90% {\n",
              "      border-color: transparent;\n",
              "      border-bottom-color: var(--fill-color);\n",
              "    }\n",
              "  }\n",
              "</style>\n",
              "\n",
              "  <script>\n",
              "    async function quickchart(key) {\n",
              "      const quickchartButtonEl =\n",
              "        document.querySelector('#' + key + ' button');\n",
              "      quickchartButtonEl.disabled = true;  // To prevent multiple clicks.\n",
              "      quickchartButtonEl.classList.add('colab-df-spinner');\n",
              "      try {\n",
              "        const charts = await google.colab.kernel.invokeFunction(\n",
              "            'suggestCharts', [key], {});\n",
              "      } catch (error) {\n",
              "        console.error('Error during call to suggestCharts:', error);\n",
              "      }\n",
              "      quickchartButtonEl.classList.remove('colab-df-spinner');\n",
              "      quickchartButtonEl.classList.add('colab-df-quickchart-complete');\n",
              "    }\n",
              "    (() => {\n",
              "      let quickchartButtonEl =\n",
              "        document.querySelector('#df-10d1c1e0-db02-4a01-bb98-74449d1c93e6 button');\n",
              "      quickchartButtonEl.style.display =\n",
              "        google.colab.kernel.accessAllowed ? 'block' : 'none';\n",
              "    })();\n",
              "  </script>\n",
              "</div>\n",
              "    </div>\n",
              "  </div>\n"
            ],
            "text/plain": [
              "            Price   Open   High    Low   Vol. Change %\n",
              "Date                                                  \n",
              "2024-12-02  52.16  50.99  52.65  50.94  8.23M    4.05%\n",
              "2024-11-29  50.13  49.81  50.73  49.68  3.63M    1.54%\n",
              "2024-11-27  49.37  49.09  50.54  48.61  5.62M    0.63%\n",
              "2024-11-26  49.06  49.18  50.01  48.93  6.92M   -0.20%\n",
              "2024-11-25  49.16  49.13  49.49  47.95  9.52M   -0.45%"
            ]
          },
          "execution_count": 76,
          "metadata": {},
          "output_type": "execute_result"
        }
      ],
      "source": [
        "df = pd.read_csv('/content/Roblox Stock Price History.csv')\n",
        "df['Date'] = pd.to_datetime(df['Date'])\n",
        "df.set_index('Date', inplace = True)\n",
        "df.head()"
      ]
    },
    {
      "cell_type": "code",
      "execution_count": 92,
      "metadata": {
        "colab": {
          "base_uri": "https://localhost:8080/",
          "height": 237
        },
        "id": "SGBlJSq9OuOb",
        "outputId": "16c3c3b8-359f-431f-8542-5cd09a929058"
      },
      "outputs": [
        {
          "data": {
            "application/vnd.google.colaboratory.intrinsic+json": {
              "summary": "{\n  \"name\": \"trr\",\n  \"rows\": 286,\n  \"fields\": [\n    {\n      \"column\": \"Date\",\n      \"properties\": {\n        \"dtype\": \"date\",\n        \"min\": \"2023-11-01 00:00:00\",\n        \"max\": \"2024-11-29 00:00:00\",\n        \"num_unique_values\": 286,\n        \"samples\": [\n          \"2024-11-15 00:00:00\",\n          \"2023-11-27 00:00:00\",\n          \"2024-05-20 00:00:00\"\n        ],\n        \"semantic_type\": \"\",\n        \"description\": \"\"\n      }\n    },\n    {\n      \"column\": \"Price\",\n      \"properties\": {\n        \"dtype\": \"number\",\n        \"std\": 0.40321142958758943,\n        \"min\": 3.905,\n        \"max\": 5.39,\n        \"num_unique_values\": 244,\n        \"samples\": [\n          4.288,\n          4.368,\n          5.046\n        ],\n        \"semantic_type\": \"\",\n        \"description\": \"\"\n      }\n    },\n    {\n      \"column\": \"Open\",\n      \"properties\": {\n        \"dtype\": \"number\",\n        \"std\": 0.40483289192455946,\n        \"min\": 3.943,\n        \"max\": 5.458,\n        \"num_unique_values\": 244,\n        \"samples\": [\n          4.238,\n          4.386,\n          5.021\n        ],\n        \"semantic_type\": \"\",\n        \"description\": \"\"\n      }\n    },\n    {\n      \"column\": \"High\",\n      \"properties\": {\n        \"dtype\": \"number\",\n        \"std\": 0.40409823069586354,\n        \"min\": 3.951,\n        \"max\": 5.48,\n        \"num_unique_values\": 251,\n        \"samples\": [\n          5.229,\n          4.391,\n          5.024\n        ],\n        \"semantic_type\": \"\",\n        \"description\": \"\"\n      }\n    },\n    {\n      \"column\": \"Low\",\n      \"properties\": {\n        \"dtype\": \"number\",\n        \"std\": 0.4060818188216199,\n        \"min\": 3.899,\n        \"max\": 5.377,\n        \"num_unique_values\": 237,\n        \"samples\": [\n          5.104,\n          4.232,\n          4.915\n        ],\n        \"semantic_type\": \"\",\n        \"description\": \"\"\n      }\n    },\n    {\n      \"column\": \"Change %\",\n      \"properties\": {\n        \"dtype\": \"string\",\n        \"num_unique_values\": 181,\n        \"samples\": [\n          \"-0.23%\",\n          \"1.63%\",\n          \"-1.14%\"\n        ],\n        \"semantic_type\": \"\",\n        \"description\": \"\"\n      }\n    }\n  ]\n}",
              "type": "dataframe",
              "variable_name": "trr"
            },
            "text/html": [
              "\n",
              "  <div id=\"df-7f45313d-273e-48d5-b901-e93a1119158a\" class=\"colab-df-container\">\n",
              "    <div>\n",
              "<style scoped>\n",
              "    .dataframe tbody tr th:only-of-type {\n",
              "        vertical-align: middle;\n",
              "    }\n",
              "\n",
              "    .dataframe tbody tr th {\n",
              "        vertical-align: top;\n",
              "    }\n",
              "\n",
              "    .dataframe thead th {\n",
              "        text-align: right;\n",
              "    }\n",
              "</style>\n",
              "<table border=\"1\" class=\"dataframe\">\n",
              "  <thead>\n",
              "    <tr style=\"text-align: right;\">\n",
              "      <th></th>\n",
              "      <th>Price</th>\n",
              "      <th>Open</th>\n",
              "      <th>High</th>\n",
              "      <th>Low</th>\n",
              "      <th>Change %</th>\n",
              "    </tr>\n",
              "    <tr>\n",
              "      <th>Date</th>\n",
              "      <th></th>\n",
              "      <th></th>\n",
              "      <th></th>\n",
              "      <th></th>\n",
              "      <th></th>\n",
              "    </tr>\n",
              "  </thead>\n",
              "  <tbody>\n",
              "    <tr>\n",
              "      <th>2024-11-29</th>\n",
              "      <td>4.291</td>\n",
              "      <td>4.345</td>\n",
              "      <td>4.371</td>\n",
              "      <td>4.300</td>\n",
              "      <td>-0.90%</td>\n",
              "    </tr>\n",
              "    <tr>\n",
              "      <th>2024-11-27</th>\n",
              "      <td>4.330</td>\n",
              "      <td>4.372</td>\n",
              "      <td>4.372</td>\n",
              "      <td>4.323</td>\n",
              "      <td>-0.85%</td>\n",
              "    </tr>\n",
              "    <tr>\n",
              "      <th>2024-11-26</th>\n",
              "      <td>4.367</td>\n",
              "      <td>4.391</td>\n",
              "      <td>4.413</td>\n",
              "      <td>4.367</td>\n",
              "      <td>-0.10%</td>\n",
              "    </tr>\n",
              "    <tr>\n",
              "      <th>2024-11-25</th>\n",
              "      <td>4.371</td>\n",
              "      <td>4.438</td>\n",
              "      <td>4.440</td>\n",
              "      <td>4.378</td>\n",
              "      <td>-0.89%</td>\n",
              "    </tr>\n",
              "    <tr>\n",
              "      <th>2024-11-22</th>\n",
              "      <td>4.411</td>\n",
              "      <td>4.425</td>\n",
              "      <td>4.430</td>\n",
              "      <td>4.378</td>\n",
              "      <td>0.46%</td>\n",
              "    </tr>\n",
              "  </tbody>\n",
              "</table>\n",
              "</div>\n",
              "    <div class=\"colab-df-buttons\">\n",
              "\n",
              "  <div class=\"colab-df-container\">\n",
              "    <button class=\"colab-df-convert\" onclick=\"convertToInteractive('df-7f45313d-273e-48d5-b901-e93a1119158a')\"\n",
              "            title=\"Convert this dataframe to an interactive table.\"\n",
              "            style=\"display:none;\">\n",
              "\n",
              "  <svg xmlns=\"http://www.w3.org/2000/svg\" height=\"24px\" viewBox=\"0 -960 960 960\">\n",
              "    <path d=\"M120-120v-720h720v720H120Zm60-500h600v-160H180v160Zm220 220h160v-160H400v160Zm0 220h160v-160H400v160ZM180-400h160v-160H180v160Zm440 0h160v-160H620v160ZM180-180h160v-160H180v160Zm440 0h160v-160H620v160Z\"/>\n",
              "  </svg>\n",
              "    </button>\n",
              "\n",
              "  <style>\n",
              "    .colab-df-container {\n",
              "      display:flex;\n",
              "      gap: 12px;\n",
              "    }\n",
              "\n",
              "    .colab-df-convert {\n",
              "      background-color: #E8F0FE;\n",
              "      border: none;\n",
              "      border-radius: 50%;\n",
              "      cursor: pointer;\n",
              "      display: none;\n",
              "      fill: #1967D2;\n",
              "      height: 32px;\n",
              "      padding: 0 0 0 0;\n",
              "      width: 32px;\n",
              "    }\n",
              "\n",
              "    .colab-df-convert:hover {\n",
              "      background-color: #E2EBFA;\n",
              "      box-shadow: 0px 1px 2px rgba(60, 64, 67, 0.3), 0px 1px 3px 1px rgba(60, 64, 67, 0.15);\n",
              "      fill: #174EA6;\n",
              "    }\n",
              "\n",
              "    .colab-df-buttons div {\n",
              "      margin-bottom: 4px;\n",
              "    }\n",
              "\n",
              "    [theme=dark] .colab-df-convert {\n",
              "      background-color: #3B4455;\n",
              "      fill: #D2E3FC;\n",
              "    }\n",
              "\n",
              "    [theme=dark] .colab-df-convert:hover {\n",
              "      background-color: #434B5C;\n",
              "      box-shadow: 0px 1px 3px 1px rgba(0, 0, 0, 0.15);\n",
              "      filter: drop-shadow(0px 1px 2px rgba(0, 0, 0, 0.3));\n",
              "      fill: #FFFFFF;\n",
              "    }\n",
              "  </style>\n",
              "\n",
              "    <script>\n",
              "      const buttonEl =\n",
              "        document.querySelector('#df-7f45313d-273e-48d5-b901-e93a1119158a button.colab-df-convert');\n",
              "      buttonEl.style.display =\n",
              "        google.colab.kernel.accessAllowed ? 'block' : 'none';\n",
              "\n",
              "      async function convertToInteractive(key) {\n",
              "        const element = document.querySelector('#df-7f45313d-273e-48d5-b901-e93a1119158a');\n",
              "        const dataTable =\n",
              "          await google.colab.kernel.invokeFunction('convertToInteractive',\n",
              "                                                    [key], {});\n",
              "        if (!dataTable) return;\n",
              "\n",
              "        const docLinkHtml = 'Like what you see? Visit the ' +\n",
              "          '<a target=\"_blank\" href=https://colab.research.google.com/notebooks/data_table.ipynb>data table notebook</a>'\n",
              "          + ' to learn more about interactive tables.';\n",
              "        element.innerHTML = '';\n",
              "        dataTable['output_type'] = 'display_data';\n",
              "        await google.colab.output.renderOutput(dataTable, element);\n",
              "        const docLink = document.createElement('div');\n",
              "        docLink.innerHTML = docLinkHtml;\n",
              "        element.appendChild(docLink);\n",
              "      }\n",
              "    </script>\n",
              "  </div>\n",
              "\n",
              "\n",
              "<div id=\"df-8b98d385-9121-4aea-9615-c4d82f962507\">\n",
              "  <button class=\"colab-df-quickchart\" onclick=\"quickchart('df-8b98d385-9121-4aea-9615-c4d82f962507')\"\n",
              "            title=\"Suggest charts\"\n",
              "            style=\"display:none;\">\n",
              "\n",
              "<svg xmlns=\"http://www.w3.org/2000/svg\" height=\"24px\"viewBox=\"0 0 24 24\"\n",
              "     width=\"24px\">\n",
              "    <g>\n",
              "        <path d=\"M19 3H5c-1.1 0-2 .9-2 2v14c0 1.1.9 2 2 2h14c1.1 0 2-.9 2-2V5c0-1.1-.9-2-2-2zM9 17H7v-7h2v7zm4 0h-2V7h2v10zm4 0h-2v-4h2v4z\"/>\n",
              "    </g>\n",
              "</svg>\n",
              "  </button>\n",
              "\n",
              "<style>\n",
              "  .colab-df-quickchart {\n",
              "      --bg-color: #E8F0FE;\n",
              "      --fill-color: #1967D2;\n",
              "      --hover-bg-color: #E2EBFA;\n",
              "      --hover-fill-color: #174EA6;\n",
              "      --disabled-fill-color: #AAA;\n",
              "      --disabled-bg-color: #DDD;\n",
              "  }\n",
              "\n",
              "  [theme=dark] .colab-df-quickchart {\n",
              "      --bg-color: #3B4455;\n",
              "      --fill-color: #D2E3FC;\n",
              "      --hover-bg-color: #434B5C;\n",
              "      --hover-fill-color: #FFFFFF;\n",
              "      --disabled-bg-color: #3B4455;\n",
              "      --disabled-fill-color: #666;\n",
              "  }\n",
              "\n",
              "  .colab-df-quickchart {\n",
              "    background-color: var(--bg-color);\n",
              "    border: none;\n",
              "    border-radius: 50%;\n",
              "    cursor: pointer;\n",
              "    display: none;\n",
              "    fill: var(--fill-color);\n",
              "    height: 32px;\n",
              "    padding: 0;\n",
              "    width: 32px;\n",
              "  }\n",
              "\n",
              "  .colab-df-quickchart:hover {\n",
              "    background-color: var(--hover-bg-color);\n",
              "    box-shadow: 0 1px 2px rgba(60, 64, 67, 0.3), 0 1px 3px 1px rgba(60, 64, 67, 0.15);\n",
              "    fill: var(--button-hover-fill-color);\n",
              "  }\n",
              "\n",
              "  .colab-df-quickchart-complete:disabled,\n",
              "  .colab-df-quickchart-complete:disabled:hover {\n",
              "    background-color: var(--disabled-bg-color);\n",
              "    fill: var(--disabled-fill-color);\n",
              "    box-shadow: none;\n",
              "  }\n",
              "\n",
              "  .colab-df-spinner {\n",
              "    border: 2px solid var(--fill-color);\n",
              "    border-color: transparent;\n",
              "    border-bottom-color: var(--fill-color);\n",
              "    animation:\n",
              "      spin 1s steps(1) infinite;\n",
              "  }\n",
              "\n",
              "  @keyframes spin {\n",
              "    0% {\n",
              "      border-color: transparent;\n",
              "      border-bottom-color: var(--fill-color);\n",
              "      border-left-color: var(--fill-color);\n",
              "    }\n",
              "    20% {\n",
              "      border-color: transparent;\n",
              "      border-left-color: var(--fill-color);\n",
              "      border-top-color: var(--fill-color);\n",
              "    }\n",
              "    30% {\n",
              "      border-color: transparent;\n",
              "      border-left-color: var(--fill-color);\n",
              "      border-top-color: var(--fill-color);\n",
              "      border-right-color: var(--fill-color);\n",
              "    }\n",
              "    40% {\n",
              "      border-color: transparent;\n",
              "      border-right-color: var(--fill-color);\n",
              "      border-top-color: var(--fill-color);\n",
              "    }\n",
              "    60% {\n",
              "      border-color: transparent;\n",
              "      border-right-color: var(--fill-color);\n",
              "    }\n",
              "    80% {\n",
              "      border-color: transparent;\n",
              "      border-right-color: var(--fill-color);\n",
              "      border-bottom-color: var(--fill-color);\n",
              "    }\n",
              "    90% {\n",
              "      border-color: transparent;\n",
              "      border-bottom-color: var(--fill-color);\n",
              "    }\n",
              "  }\n",
              "</style>\n",
              "\n",
              "  <script>\n",
              "    async function quickchart(key) {\n",
              "      const quickchartButtonEl =\n",
              "        document.querySelector('#' + key + ' button');\n",
              "      quickchartButtonEl.disabled = true;  // To prevent multiple clicks.\n",
              "      quickchartButtonEl.classList.add('colab-df-spinner');\n",
              "      try {\n",
              "        const charts = await google.colab.kernel.invokeFunction(\n",
              "            'suggestCharts', [key], {});\n",
              "      } catch (error) {\n",
              "        console.error('Error during call to suggestCharts:', error);\n",
              "      }\n",
              "      quickchartButtonEl.classList.remove('colab-df-spinner');\n",
              "      quickchartButtonEl.classList.add('colab-df-quickchart-complete');\n",
              "    }\n",
              "    (() => {\n",
              "      let quickchartButtonEl =\n",
              "        document.querySelector('#df-8b98d385-9121-4aea-9615-c4d82f962507 button');\n",
              "      quickchartButtonEl.style.display =\n",
              "        google.colab.kernel.accessAllowed ? 'block' : 'none';\n",
              "    })();\n",
              "  </script>\n",
              "</div>\n",
              "    </div>\n",
              "  </div>\n"
            ],
            "text/plain": [
              "            Price   Open   High    Low Change %\n",
              "Date                                           \n",
              "2024-11-29  4.291  4.345  4.371  4.300   -0.90%\n",
              "2024-11-27  4.330  4.372  4.372  4.323   -0.85%\n",
              "2024-11-26  4.367  4.391  4.413  4.367   -0.10%\n",
              "2024-11-25  4.371  4.438  4.440  4.378   -0.89%\n",
              "2024-11-22  4.411  4.425  4.430  4.378    0.46%"
            ]
          },
          "execution_count": 92,
          "metadata": {},
          "output_type": "execute_result"
        }
      ],
      "source": [
        "trr = pd.read_csv('/content/United States 1-Year Bond Yield Historical Data.csv')\n",
        "trr['Date'] = pd.to_datetime(trr['Date'])\n",
        "trr.set_index('Date', inplace = True)\n",
        "trr.head()"
      ]
    },
    {
      "cell_type": "code",
      "execution_count": 88,
      "metadata": {
        "id": "zL86JAjZNPzW"
      },
      "outputs": [],
      "source": [
        "sigma = df.Price.std()\n",
        "r = trr.Price.mean()\n",
        "S = df.iloc[0, 0]\n",
        "K = S\n",
        "T = 1"
      ]
    },
    {
      "cell_type": "code",
      "execution_count": 89,
      "metadata": {
        "id": "qbWMvCHpNS3_"
      },
      "outputs": [],
      "source": [
        "def d1(S, K, T, r, sigma):\n",
        "    return(log(S/K) + (r + sigma**2/2.)*T) / (sigma * sqrt(T))\n",
        "\n",
        "def d2(S, K, T, r, sigma):\n",
        "    return d1(S, K, T, r, sigma) - sigma * sqrt(T)\n",
        "\n",
        "def bs_call(S, K, T, r, sigma):\n",
        "    price = S * norm.cdf(d1(S, K, T, r, sigma))-K * np.exp(-r*T) * norm.cdf(d2(S, K, T, r, sigma))\n",
        "    return price\n",
        "\n",
        "def bs_put(S, K, T, r, sigma):\n",
        "    price = K * np.exp(-r*T) * norm.cdf(-1 * d2(S, K, T, r, sigma)) - S * norm.cdf(-1 * d1(S, K, T, r, sigma))\n",
        "    return price"
      ]
    },
    {
      "cell_type": "code",
      "execution_count": 90,
      "metadata": {
        "colab": {
          "base_uri": "https://localhost:8080/"
        },
        "id": "U2zx8_MDQPCB",
        "outputId": "82527201-227c-43d6-b32b-1de91d8f7761"
      },
      "outputs": [
        {
          "data": {
            "text/plain": [
              "52.10234647114477"
            ]
          },
          "execution_count": 90,
          "metadata": {},
          "output_type": "execute_result"
        }
      ],
      "source": [
        "bs_call(S, K, T, r, sigma)"
      ]
    },
    {
      "cell_type": "code",
      "execution_count": 91,
      "metadata": {
        "colab": {
          "base_uri": "https://localhost:8080/"
        },
        "id": "gx_oaMh6QlfS",
        "outputId": "f516895b-ce4d-422c-9c92-be8f73d8c2ce"
      },
      "outputs": [
        {
          "data": {
            "text/plain": [
              "0.376859114430985"
            ]
          },
          "execution_count": 91,
          "metadata": {},
          "output_type": "execute_result"
        }
      ],
      "source": [
        "bs_put(S, K, T, r, sigma)"
      ]
    }
  ],
  "metadata": {
    "colab": {
      "provenance": []
    },
    "kernelspec": {
      "display_name": "Python 3",
      "language": "python",
      "name": "python3"
    },
    "language_info": {
      "codemirror_mode": {
        "name": "ipython",
        "version": 3
      },
      "file_extension": ".py",
      "mimetype": "text/x-python",
      "name": "python",
      "nbconvert_exporter": "python",
      "pygments_lexer": "ipython3",
      "version": "3.8.3"
    }
  },
  "nbformat": 4,
  "nbformat_minor": 0
}
